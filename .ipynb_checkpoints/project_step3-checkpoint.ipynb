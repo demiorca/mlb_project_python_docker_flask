{
 "cells": [
  {
   "cell_type": "code",
   "execution_count": 1,
   "id": "3330df8d-eb0b-4847-a88b-953164b2fed2",
   "metadata": {},
   "outputs": [],
   "source": [
    "import pandas as pd\n",
    "import numpy as np\n",
    "import json\n",
    "from sklearn.metrics import roc_auc_score\n",
    "from urllib import request"
   ]
  },
  {
   "cell_type": "code",
   "execution_count": 2,
   "id": "eaecd896-44dc-46f0-aac3-69e8dfc17c38",
   "metadata": {},
   "outputs": [],
   "source": [
    "x_test = pd.read_csv('x_test.csv')\n",
    "y_test = pd.read_csv('y_test.csv')"
   ]
  },
  {
   "cell_type": "code",
   "execution_count": 3,
   "id": "ec0b73a7-3cc9-4a0d-ae95-946db4344256",
   "metadata": {},
   "outputs": [
    {
     "data": {
      "text/html": [
       "<div>\n",
       "<style scoped>\n",
       "    .dataframe tbody tr th:only-of-type {\n",
       "        vertical-align: middle;\n",
       "    }\n",
       "\n",
       "    .dataframe tbody tr th {\n",
       "        vertical-align: top;\n",
       "    }\n",
       "\n",
       "    .dataframe thead th {\n",
       "        text-align: right;\n",
       "    }\n",
       "</style>\n",
       "<table border=\"1\" class=\"dataframe\">\n",
       "  <thead>\n",
       "    <tr style=\"text-align: right;\">\n",
       "      <th></th>\n",
       "      <th>ph</th>\n",
       "      <th>Hardness</th>\n",
       "      <th>Solids</th>\n",
       "      <th>Chloramines</th>\n",
       "      <th>Sulfate</th>\n",
       "      <th>Conductivity</th>\n",
       "      <th>Organic_carbon</th>\n",
       "      <th>Trihalomethanes</th>\n",
       "      <th>Turbidity</th>\n",
       "    </tr>\n",
       "  </thead>\n",
       "  <tbody>\n",
       "    <tr>\n",
       "      <th>0</th>\n",
       "      <td>6.209642</td>\n",
       "      <td>195.417721</td>\n",
       "      <td>13116.707712</td>\n",
       "      <td>7.879348</td>\n",
       "      <td>333.699670</td>\n",
       "      <td>417.241656</td>\n",
       "      <td>7.507662</td>\n",
       "      <td>70.547387</td>\n",
       "      <td>3.612520</td>\n",
       "    </tr>\n",
       "    <tr>\n",
       "      <th>1</th>\n",
       "      <td>7.039094</td>\n",
       "      <td>179.645225</td>\n",
       "      <td>28827.360186</td>\n",
       "      <td>4.945555</td>\n",
       "      <td>389.889271</td>\n",
       "      <td>593.396225</td>\n",
       "      <td>12.079207</td>\n",
       "      <td>58.363507</td>\n",
       "      <td>4.366031</td>\n",
       "    </tr>\n",
       "    <tr>\n",
       "      <th>2</th>\n",
       "      <td>6.745307</td>\n",
       "      <td>218.424637</td>\n",
       "      <td>21871.838700</td>\n",
       "      <td>7.165509</td>\n",
       "      <td>333.699670</td>\n",
       "      <td>373.050102</td>\n",
       "      <td>16.826619</td>\n",
       "      <td>74.086080</td>\n",
       "      <td>3.902353</td>\n",
       "    </tr>\n",
       "    <tr>\n",
       "      <th>3</th>\n",
       "      <td>4.979469</td>\n",
       "      <td>240.813475</td>\n",
       "      <td>24167.842882</td>\n",
       "      <td>5.593830</td>\n",
       "      <td>333.699670</td>\n",
       "      <td>398.028961</td>\n",
       "      <td>6.091227</td>\n",
       "      <td>62.419529</td>\n",
       "      <td>3.439022</td>\n",
       "    </tr>\n",
       "  </tbody>\n",
       "</table>\n",
       "</div>"
      ],
      "text/plain": [
       "         ph    Hardness        Solids  Chloramines     Sulfate  Conductivity  \\\n",
       "0  6.209642  195.417721  13116.707712     7.879348  333.699670    417.241656   \n",
       "1  7.039094  179.645225  28827.360186     4.945555  389.889271    593.396225   \n",
       "2  6.745307  218.424637  21871.838700     7.165509  333.699670    373.050102   \n",
       "3  4.979469  240.813475  24167.842882     5.593830  333.699670    398.028961   \n",
       "\n",
       "   Organic_carbon  Trihalomethanes  Turbidity  \n",
       "0        7.507662        70.547387   3.612520  \n",
       "1       12.079207        58.363507   4.366031  \n",
       "2       16.826619        74.086080   3.902353  \n",
       "3        6.091227        62.419529   3.439022  "
      ]
     },
     "execution_count": 3,
     "metadata": {},
     "output_type": "execute_result"
    }
   ],
   "source": [
    "x_test.head(4)"
   ]
  },
  {
   "cell_type": "markdown",
   "id": "be2d79b8-13af-43a5-bdfc-be424ff2bbb9",
   "metadata": {},
   "source": [
    "#### Проверка работоспособности API"
   ]
  },
  {
   "cell_type": "code",
   "execution_count": 4,
   "id": "376a89e2-6715-4ad4-b100-c5650c4fd83e",
   "metadata": {},
   "outputs": [],
   "source": [
    "def get_prediction(x):\n",
    "    ph, hardness, solids, chloramines, sulfate = x\n",
    "    body = {'ph': ph, 'Hardness': hardness, 'Solids': solids,\n",
    "            'Chloramines': chloramines, 'Sulfate': sulfate}\n",
    "\n",
    "    myurl = 'http://127.0.0.1:8180/predict'\n",
    "    req = request.Request(myurl)\n",
    "    req.add_header('Content-Type', 'application/json; charset=utf-8')\n",
    "    jsondata = json.dumps(body)\n",
    "    jsondataasbytes = jsondata.encode('utf-8')\n",
    "    req.add_header('Content-Length', len(jsondataasbytes))\n",
    "    response = request.urlopen(req, jsondataasbytes)\n",
    "    \n",
    "    return json.loads(response.read())['predictions']"
   ]
  },
  {
   "cell_type": "code",
   "execution_count": 5,
   "id": "e702e481-fa20-4ba9-af52-d5a193d42f66",
   "metadata": {},
   "outputs": [],
   "source": [
    "predictions = x_test[['ph', 'Hardness', 'Solids', 'Chloramines', 'Sulfate']].iloc[:500].apply(lambda x: get_prediction(x), 1)"
   ]
  },
  {
   "cell_type": "code",
   "execution_count": 6,
   "id": "0bc75cca-c0ab-472d-97b2-5b8e0ffa4125",
   "metadata": {},
   "outputs": [
    {
     "data": {
      "text/plain": [
       "0      0.34\n",
       "1      0.31\n",
       "2      0.43\n",
       "3      0.78\n",
       "4      0.50\n",
       "       ... \n",
       "495    0.32\n",
       "496    0.35\n",
       "497    0.31\n",
       "498    0.39\n",
       "499    0.28\n",
       "Length: 500, dtype: float64"
      ]
     },
     "execution_count": 6,
     "metadata": {},
     "output_type": "execute_result"
    }
   ],
   "source": [
    "predictions"
   ]
  },
  {
   "cell_type": "code",
   "execution_count": 7,
   "id": "9df63be7-d90a-4ba2-a78a-64954db1304c",
   "metadata": {},
   "outputs": [
    {
     "data": {
      "text/plain": [
       "0.7608562030699714"
      ]
     },
     "execution_count": 7,
     "metadata": {},
     "output_type": "execute_result"
    }
   ],
   "source": [
    "# Проверим roc_auc_score:\n",
    "\n",
    "roc_auc_score(y_score=predictions.values, y_true=y_test.iloc[:500])"
   ]
  },
  {
   "cell_type": "markdown",
   "id": "c16ba62f-4ce0-4014-aafc-a0232142ad89",
   "metadata": {},
   "source": [
    "#### Примеры"
   ]
  },
  {
   "cell_type": "code",
   "execution_count": 8,
   "id": "e009b950-edb4-425a-98a7-4913def405f1",
   "metadata": {},
   "outputs": [
    {
     "data": {
      "text/plain": [
       "0.67"
      ]
     },
     "execution_count": 8,
     "metadata": {},
     "output_type": "execute_result"
    }
   ],
   "source": [
    "# Все данные введены корректно:\n",
    "\n",
    "get_prediction((\"124.436\", \"574.12341\", \"231.231231\", \"5745.232\", \"46.123123\"))"
   ]
  },
  {
   "cell_type": "code",
   "execution_count": 9,
   "id": "45b510b1-4700-4032-9d6c-5ccc72c15ea3",
   "metadata": {},
   "outputs": [
    {
     "data": {
      "text/plain": [
       "0.68"
      ]
     },
     "execution_count": 9,
     "metadata": {},
     "output_type": "execute_result"
    }
   ],
   "source": [
    "# Среди значений есть пустое:\n",
    "\n",
    "get_prediction((\"\", \"574.12341\", \"231.231231\", \"5745.232\", \"46.123123\"))"
   ]
  },
  {
   "cell_type": "code",
   "execution_count": 10,
   "id": "835df265-0821-4d24-a144-592bf2963289",
   "metadata": {},
   "outputs": [
    {
     "data": {
      "text/plain": [
       "0.55"
      ]
     },
     "execution_count": 10,
     "metadata": {},
     "output_type": "execute_result"
    }
   ],
   "source": [
    "# Среди значений есть пробелы, буквы и знаки препинания:\n",
    "\n",
    "get_prediction((\"sd\", \" \", \".\", \"123\", \"!Sdss_\"))"
   ]
  },
  {
   "cell_type": "code",
   "execution_count": null,
   "id": "823c04c8-c377-4823-b009-13e1b8b423b5",
   "metadata": {},
   "outputs": [],
   "source": []
  }
 ],
 "metadata": {
  "kernelspec": {
   "display_name": "Python 3 (ipykernel)",
   "language": "python",
   "name": "python3"
  },
  "language_info": {
   "codemirror_mode": {
    "name": "ipython",
    "version": 3
   },
   "file_extension": ".py",
   "mimetype": "text/x-python",
   "name": "python",
   "nbconvert_exporter": "python",
   "pygments_lexer": "ipython3",
   "version": "3.9.12"
  }
 },
 "nbformat": 4,
 "nbformat_minor": 5
}
