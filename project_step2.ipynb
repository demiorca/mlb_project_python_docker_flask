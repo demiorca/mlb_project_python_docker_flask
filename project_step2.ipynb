{
 "cells": [
  {
   "cell_type": "code",
   "execution_count": 1,
   "id": "1014a138-b18a-4e7e-a985-a938a377fbdb",
   "metadata": {},
   "outputs": [],
   "source": [
    "import pandas as pd\n",
    "from sklearn.metrics import roc_auc_score\n",
    "import dill\n",
    "dill._dill._reverse_typemap['ClassType'] = type"
   ]
  },
  {
   "cell_type": "code",
   "execution_count": 2,
   "id": "6470b2aa-ea2f-4a35-a92e-c5a4503b8a31",
   "metadata": {},
   "outputs": [],
   "source": [
    "x_test = pd.read_csv('x_test.csv')\n",
    "y_test = pd.read_csv('y_test.csv')"
   ]
  },
  {
   "cell_type": "code",
   "execution_count": 3,
   "id": "ea6cec17-0868-4c87-a84c-e41e96fa7769",
   "metadata": {},
   "outputs": [
    {
     "data": {
      "text/html": [
       "<div>\n",
       "<style scoped>\n",
       "    .dataframe tbody tr th:only-of-type {\n",
       "        vertical-align: middle;\n",
       "    }\n",
       "\n",
       "    .dataframe tbody tr th {\n",
       "        vertical-align: top;\n",
       "    }\n",
       "\n",
       "    .dataframe thead th {\n",
       "        text-align: right;\n",
       "    }\n",
       "</style>\n",
       "<table border=\"1\" class=\"dataframe\">\n",
       "  <thead>\n",
       "    <tr style=\"text-align: right;\">\n",
       "      <th></th>\n",
       "      <th>ph</th>\n",
       "      <th>Hardness</th>\n",
       "      <th>Solids</th>\n",
       "      <th>Chloramines</th>\n",
       "      <th>Sulfate</th>\n",
       "      <th>Conductivity</th>\n",
       "      <th>Organic_carbon</th>\n",
       "      <th>Trihalomethanes</th>\n",
       "      <th>Turbidity</th>\n",
       "    </tr>\n",
       "  </thead>\n",
       "  <tbody>\n",
       "    <tr>\n",
       "      <th>0</th>\n",
       "      <td>6.209642</td>\n",
       "      <td>195.417721</td>\n",
       "      <td>13116.707712</td>\n",
       "      <td>7.879348</td>\n",
       "      <td>333.699670</td>\n",
       "      <td>417.241656</td>\n",
       "      <td>7.507662</td>\n",
       "      <td>70.547387</td>\n",
       "      <td>3.612520</td>\n",
       "    </tr>\n",
       "    <tr>\n",
       "      <th>1</th>\n",
       "      <td>7.039094</td>\n",
       "      <td>179.645225</td>\n",
       "      <td>28827.360186</td>\n",
       "      <td>4.945555</td>\n",
       "      <td>389.889271</td>\n",
       "      <td>593.396225</td>\n",
       "      <td>12.079207</td>\n",
       "      <td>58.363507</td>\n",
       "      <td>4.366031</td>\n",
       "    </tr>\n",
       "    <tr>\n",
       "      <th>2</th>\n",
       "      <td>6.745307</td>\n",
       "      <td>218.424637</td>\n",
       "      <td>21871.838700</td>\n",
       "      <td>7.165509</td>\n",
       "      <td>333.699670</td>\n",
       "      <td>373.050102</td>\n",
       "      <td>16.826619</td>\n",
       "      <td>74.086080</td>\n",
       "      <td>3.902353</td>\n",
       "    </tr>\n",
       "    <tr>\n",
       "      <th>3</th>\n",
       "      <td>4.979469</td>\n",
       "      <td>240.813475</td>\n",
       "      <td>24167.842882</td>\n",
       "      <td>5.593830</td>\n",
       "      <td>333.699670</td>\n",
       "      <td>398.028961</td>\n",
       "      <td>6.091227</td>\n",
       "      <td>62.419529</td>\n",
       "      <td>3.439022</td>\n",
       "    </tr>\n",
       "  </tbody>\n",
       "</table>\n",
       "</div>"
      ],
      "text/plain": [
       "         ph    Hardness        Solids  Chloramines     Sulfate  Conductivity  \\\n",
       "0  6.209642  195.417721  13116.707712     7.879348  333.699670    417.241656   \n",
       "1  7.039094  179.645225  28827.360186     4.945555  389.889271    593.396225   \n",
       "2  6.745307  218.424637  21871.838700     7.165509  333.699670    373.050102   \n",
       "3  4.979469  240.813475  24167.842882     5.593830  333.699670    398.028961   \n",
       "\n",
       "   Organic_carbon  Trihalomethanes  Turbidity  \n",
       "0        7.507662        70.547387   3.612520  \n",
       "1       12.079207        58.363507   4.366031  \n",
       "2       16.826619        74.086080   3.902353  \n",
       "3        6.091227        62.419529   3.439022  "
      ]
     },
     "execution_count": 3,
     "metadata": {},
     "output_type": "execute_result"
    }
   ],
   "source": [
    "x_test.head(4)"
   ]
  },
  {
   "cell_type": "markdown",
   "id": "215ac4d9-c079-4040-8ffc-0f342d0947fc",
   "metadata": {},
   "source": [
    "#### Проверка качества модели"
   ]
  },
  {
   "cell_type": "code",
   "execution_count": 4,
   "id": "5b7ffddb-e367-44ff-a022-9c914964a6ce",
   "metadata": {},
   "outputs": [],
   "source": [
    "with open('app/models/rf_pipeline.dill', 'rb') as in_strm:\n",
    "    pipeline = dill.load(in_strm)"
   ]
  },
  {
   "cell_type": "code",
   "execution_count": 5,
   "id": "73919597-664c-4215-adf4-e00873dccf88",
   "metadata": {},
   "outputs": [],
   "source": [
    "predictions = pipeline.predict_proba(x_test.iloc[:500])\n",
    "pd.DataFrame({'preds': predictions[:, 1]}).to_csv('test_predictions.csv', index=None)"
   ]
  },
  {
   "cell_type": "code",
   "execution_count": 6,
   "id": "5a90f107-e3c2-4335-9d88-6c5c31617484",
   "metadata": {},
   "outputs": [
    {
     "data": {
      "text/plain": [
       "0.7608562030699714"
      ]
     },
     "execution_count": 6,
     "metadata": {},
     "output_type": "execute_result"
    }
   ],
   "source": [
    "# Проверим roc_auc_score:\n",
    "\n",
    "roc_auc_score(y_score=predictions[:, 1][:], y_true=y_test.iloc[:500])"
   ]
  },
  {
   "cell_type": "code",
   "execution_count": null,
   "id": "b63d53a2-1a34-49ac-a73f-696908767b03",
   "metadata": {},
   "outputs": [],
   "source": []
  }
 ],
 "metadata": {
  "kernelspec": {
   "display_name": "Python 3 (ipykernel)",
   "language": "python",
   "name": "python3"
  },
  "language_info": {
   "codemirror_mode": {
    "name": "ipython",
    "version": 3
   },
   "file_extension": ".py",
   "mimetype": "text/x-python",
   "name": "python",
   "nbconvert_exporter": "python",
   "pygments_lexer": "ipython3",
   "version": "3.9.12"
  }
 },
 "nbformat": 4,
 "nbformat_minor": 5
}
